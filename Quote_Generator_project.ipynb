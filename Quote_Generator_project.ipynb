{
  "nbformat": 4,
  "nbformat_minor": 0,
  "metadata": {
    "colab": {
      "provenance": []
    },
    "kernelspec": {
      "name": "python3",
      "display_name": "Python 3"
    },
    "language_info": {
      "name": "python"
    }
  },
  "cells": [
    {
      "cell_type": "code",
      "execution_count": 1,
      "metadata": {
        "colab": {
          "base_uri": "https://localhost:8080/"
        },
        "id": "brGi40JmKrE0",
        "outputId": "5c5a0e11-d650-4ad3-dca1-030ccc628ddd"
      },
      "outputs": [
        {
          "output_type": "stream",
          "name": "stdout",
          "text": [
            "Requirement already satisfied: requests in /usr/local/lib/python3.10/dist-packages (2.31.0)\n",
            "Requirement already satisfied: charset-normalizer<4,>=2 in /usr/local/lib/python3.10/dist-packages (from requests) (3.3.2)\n",
            "Requirement already satisfied: idna<4,>=2.5 in /usr/local/lib/python3.10/dist-packages (from requests) (3.7)\n",
            "Requirement already satisfied: urllib3<3,>=1.21.1 in /usr/local/lib/python3.10/dist-packages (from requests) (2.0.7)\n",
            "Requirement already satisfied: certifi>=2017.4.17 in /usr/local/lib/python3.10/dist-packages (from requests) (2024.7.4)\n"
          ]
        }
      ],
      "source": [
        "!pip install requests\n",
        "\n"
      ]
    },
    {
      "cell_type": "code",
      "source": [
        "import requests\n",
        "import random\n",
        "\n",
        "# Function to fetch quotes from an API\n",
        "def fetch_quotes():\n",
        "    response = requests.get(\"https://type.fit/api/quotes\")\n",
        "    if response.status_code == 200:\n",
        "        return response.json()\n",
        "    else:\n",
        "        return None\n",
        "\n",
        "# Function to get a random quote\n",
        "def get_random_quote(quotes):\n",
        "    quote = random.choice(quotes)\n",
        "    return quote['text'], quote['author']\n",
        "\n",
        "# Fetch quotes\n",
        "quotes = fetch_quotes()\n",
        "\n",
        "# Check if quotes were fetched successfully\n",
        "if quotes:\n",
        "    # Get a random quote\n",
        "    text, author = get_random_quote(quotes)\n",
        "    if author is None:\n",
        "        author = \"Unknown\"\n",
        "\n",
        "    # Display the quote\n",
        "    print(f\"Quote: {text}\\nAuthor: {author}\")\n",
        "else:\n",
        "    print(\"Failed to fetch quotes\")\n"
      ],
      "metadata": {
        "colab": {
          "base_uri": "https://localhost:8080/"
        },
        "id": "HrJWVWV-THTg",
        "outputId": "ba3adc25-1b25-48b8-f568-ed58432e3989"
      },
      "execution_count": 3,
      "outputs": [
        {
          "output_type": "stream",
          "name": "stdout",
          "text": [
            "Quote: Genius is one percent inspiration and ninety-nine percent perspiration.\n",
            "Author: Thomas Edison, type.fit\n"
          ]
        }
      ]
    }
  ]
}